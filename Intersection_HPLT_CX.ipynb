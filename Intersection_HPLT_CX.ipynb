{
 "cells": [
  {
   "cell_type": "code",
   "execution_count": null,
   "id": "b71ffcc0",
   "metadata": {},
   "outputs": [],
   "source": [
    "import json\n",
    "from difflib import *"
   ]
  },
  {
   "cell_type": "code",
   "execution_count": null,
   "id": "f38130c6",
   "metadata": {},
   "outputs": [],
   "source": [
    "def extract_n_samples(path, n):\n",
    "    samples = []\n",
    "    \n",
    "    with open(path, \"r\") as f:\n",
    "        for i, sample in enumerate(f):\n",
    "            if i == n:\n",
    "                break\n",
    "            samples.append(json.loads(sample))\n",
    "            \n",
    "    return samples"
   ]
  },
  {
   "cell_type": "code",
   "execution_count": null,
   "id": "d3c83a6e",
   "metadata": {},
   "outputs": [],
   "source": [
    "import sys\n",
    "\n",
    "def print_and_compare(sample):\n",
    "    \n",
    "    print(\"COMPARE...\")\n",
    "    \n",
    "    text_cx, text_hplt = sample[\"text_cultura_x\"], sample[\"text_hplt\"]\n",
    "    \n",
    "    print(f\"URL: {sample['url']}\")\n",
    "    print(f\"COLLECTION CX: {sample['collection_cultura_x']}\")\n",
    "    print(f\"COLLECTION HPLT: {sample['collection_hplt']}\")\n",
    "    print()\n",
    "    print()\n",
    "    \n",
    "    text_hplt = text_hplt.replace(\"’\", \"'\")\n",
    "    text_hplt = text_hplt.replace(\"‘\", \"'\")\n",
    "    \n",
    "    print(\"---CULTURA X\")\n",
    "    print(\"=\"*30)\n",
    "    print(text_cx)\n",
    "    print()\n",
    "    print()\n",
    "    print(\"---HPLT\")\n",
    "    print(\"=\"*30)    \n",
    "    print(text_hplt)\n",
    "    print()\n",
    "    print()\n",
    "    print(\"---DIFF\")\n",
    "    print(\"=\"*30)\n",
    "    for line in unified_diff(text_cx.strip().splitlines(), text_hplt.strip().splitlines(), fromfile='culturax',\n",
    "                       tofile='hplt', n=0):\n",
    "        print(line)\n",
    "        print()"
   ]
  },
  {
   "cell_type": "markdown",
   "id": "881e5e9a",
   "metadata": {},
   "source": [
    "## Considerations\n",
    "\n",
    "HPLT documents seem older \\\n",
    "HPLT documents contain navigation text \\\n",
    "HPLT use single quote \"\\'\" to denote \"‘\" and \"’\" \\\n",
    "HPLT contains documents that are from wide15-16, so docuemnt crawled up to 2017, and this is reflected on the quality, e.g. the wikipedia pages are less curated."
   ]
  },
  {
   "cell_type": "markdown",
   "id": "3f1ef7a2",
   "metadata": {},
   "source": [
    "# HQ: CulturaX vs HPLT it"
   ]
  },
  {
   "cell_type": "code",
   "execution_count": null,
   "id": "3e4ebca8",
   "metadata": {},
   "outputs": [],
   "source": [
    "samples_cx_hq_it = extract_n_samples(\"intersection_hq_cx_hplt_it.json\", 20)"
   ]
  },
  {
   "cell_type": "code",
   "execution_count": null,
   "id": "81ddec57",
   "metadata": {
    "scrolled": true
   },
   "outputs": [],
   "source": [
    "print_and_compare(samples_cx_hq_it[10])"
   ]
  },
  {
   "cell_type": "code",
   "execution_count": null,
   "id": "0f63032c",
   "metadata": {
    "scrolled": false
   },
   "outputs": [],
   "source": [
    "print_and_compare(samples_cx_hq_it[19])"
   ]
  },
  {
   "cell_type": "code",
   "execution_count": null,
   "id": "51b2861d",
   "metadata": {},
   "outputs": [],
   "source": [
    "print_and_compare(samples_cx_hq_it[2])"
   ]
  },
  {
   "cell_type": "markdown",
   "id": "1d6556d3",
   "metadata": {},
   "source": [
    "# WEB: CX vs HPLT IT"
   ]
  },
  {
   "cell_type": "code",
   "execution_count": null,
   "id": "0c06a478",
   "metadata": {},
   "outputs": [],
   "source": [
    "samples_web_it = extract_n_samples(\"intersection_web_cx_hplt_it.json\", 20)"
   ]
  },
  {
   "cell_type": "code",
   "execution_count": null,
   "id": "e90ee13f",
   "metadata": {
    "scrolled": false
   },
   "outputs": [],
   "source": [
    "print_and_compare(samples_web_it[14])"
   ]
  },
  {
   "cell_type": "code",
   "execution_count": null,
   "id": "ff2c0a57",
   "metadata": {
    "scrolled": false
   },
   "outputs": [],
   "source": [
    "print_and_compare(samples_web_it[2])"
   ]
  },
  {
   "cell_type": "code",
   "execution_count": null,
   "id": "449ef1a1",
   "metadata": {
    "scrolled": false
   },
   "outputs": [],
   "source": [
    "print_and_compare(samples_web_it[4])"
   ]
  },
  {
   "cell_type": "markdown",
   "id": "583ce7dc",
   "metadata": {},
   "source": [
    "# WEB: CX vs HPLT EN"
   ]
  },
  {
   "cell_type": "code",
   "execution_count": null,
   "id": "0decaf73",
   "metadata": {},
   "outputs": [],
   "source": [
    "samples_web_en = extract_n_samples(\"intersection_web_cx_hplt_en.json\", 20)"
   ]
  },
  {
   "cell_type": "code",
   "execution_count": null,
   "id": "b4efcd8a",
   "metadata": {
    "scrolled": false
   },
   "outputs": [],
   "source": [
    "print_and_compare(samples_web_en[6])"
   ]
  },
  {
   "cell_type": "code",
   "execution_count": null,
   "id": "bb96b45c",
   "metadata": {
    "scrolled": false
   },
   "outputs": [],
   "source": [
    "print_and_compare(samples_web_en[3])"
   ]
  },
  {
   "cell_type": "code",
   "execution_count": null,
   "id": "89337bf9",
   "metadata": {
    "scrolled": false
   },
   "outputs": [],
   "source": [
    "print_and_compare(samples_web_en[1])"
   ]
  }
 ],
 "metadata": {
  "kernelspec": {
   "display_name": "llmdataanalysis",
   "language": "python",
   "name": "llmdataanalysis"
  },
  "language_info": {
   "codemirror_mode": {
    "name": "ipython",
    "version": 3
   },
   "file_extension": ".py",
   "mimetype": "text/x-python",
   "name": "python",
   "nbconvert_exporter": "python",
   "pygments_lexer": "ipython3",
   "version": "3.10.8"
  }
 },
 "nbformat": 4,
 "nbformat_minor": 5
}
